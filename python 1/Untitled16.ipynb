{
 "cells": [
  {
   "cell_type": "code",
   "execution_count": 2,
   "id": "8a61c2a0",
   "metadata": {},
   "outputs": [
    {
     "name": "stdout",
     "output_type": "stream",
     "text": [
      "Twinkle,twinkle,little star,\n",
      "        How I wonder what you are!\n",
      "                Up above the world so high,\n",
      "                Like a diamond in the sky.\n",
      "Twinkle,twinkle,little star,\n",
      "        How I wonder what you are\n"
     ]
    }
   ],
   "source": [
    "#1.Write a Python program to print the following string in a specific format (see the 0utput)\n",
    "            #Twinkle,twinkle,little star,\n",
    "                    #How I wonder what you are!\n",
    "                            #Up above the world so high,\n",
    "                            #Like a diamond in the sky.\n",
    "\n",
    "            #Twinkle,twinkle,little star,\n",
    "                    #How I wonder what you are\n",
    "                \n",
    "print(\"Twinkle,twinkle,little star,\")\n",
    "print(\"        How I wonder what you are!\")\n",
    "print(\"                Up above the world so high,\")\n",
    "print(\"                Like a diamond in the sky.\")\n",
    "\n",
    "print(\"Twinkle,twinkle,little star,\")\n",
    "print(\"        How I wonder what you are\")\n"
   ]
  },
  {
   "cell_type": "code",
   "execution_count": 3,
   "id": "e588a9aa",
   "metadata": {},
   "outputs": [
    {
     "name": "stdout",
     "output_type": "stream",
     "text": [
      "python version\n",
      "3.8.8 (default, Apr 13 2021, 15:08:03) [MSC v.1916 64 bit (AMD64)]\n",
      "sys.version_info(major=3, minor=8, micro=8, releaselevel='final', serial=0)\n"
     ]
    }
   ],
   "source": [
    "#2.Write a Python program to get the Python version you are using\n",
    "\n",
    "import sys\n",
    "print(\"python version\");\n",
    "print(sys.version)\n",
    "print(sys.version_info)"
   ]
  },
  {
   "cell_type": "code",
   "execution_count": 4,
   "id": "e0f919da",
   "metadata": {},
   "outputs": [
    {
     "name": "stdout",
     "output_type": "stream",
     "text": [
      "Current date and time :-  \n",
      "01-01-2022    20:44:40\n"
     ]
    }
   ],
   "source": [
    "#3.Write a Python program to display the current date and time.\n",
    "\n",
    "import datetime\n",
    "now = datetime.datetime.now()\n",
    "print(\"Current date and time :-  \")\n",
    "print(now.strftime(\"%d-%m-%Y    %H:%M:%S\"))\n"
   ]
  },
  {
   "cell_type": "code",
   "execution_count": 5,
   "id": "6d239eb0",
   "metadata": {},
   "outputs": [
    {
     "name": "stdout",
     "output_type": "stream",
     "text": [
      "Enter radius of a circle8\n",
      "The Area of A Circle is 201.024\n"
     ]
    }
   ],
   "source": [
    "#4.Write a Python program which accepts the radius of a circle from the user and compute the area.\n",
    "\n",
    "\n",
    "radius = int(input(\"Enter radius of a circle\"));\n",
    "pi = 3.141\n",
    "Area = pi * radius ** 2\n",
    "print(\"The Area of A Circle is\" ,Area)"
   ]
  },
  {
   "cell_type": "code",
   "execution_count": 6,
   "id": "b09210c7",
   "metadata": {},
   "outputs": [
    {
     "name": "stdout",
     "output_type": "stream",
     "text": [
      "Enter your First NameFaizan\n",
      "Enter your Last NameAwan\n",
      "Awan Faizan\n"
     ]
    }
   ],
   "source": [
    "#5.Write a Python program which accepts the user's first and last name and print them in reverse order with a space between them.\n",
    "\n",
    "firstName = input(\"Enter your First Name\");\n",
    "lastName = input(\"Enter your Last Name\");\n",
    "print(lastName + \" \" + firstName)\n"
   ]
  },
  {
   "cell_type": "code",
   "execution_count": 7,
   "id": "32e88197",
   "metadata": {},
   "outputs": [
    {
     "name": "stdout",
     "output_type": "stream",
     "text": [
      "Enter Number 11\n",
      "Enter Number 24\n",
      "1  +  4  = 5\n"
     ]
    }
   ],
   "source": [
    "#6.Write a python program which takes two inputs from user and print them addition.\n",
    "\n",
    "num1 = int (input(\"Enter Number 1\"));\n",
    "num2 = int (input(\"Enter Number 2\"));\n",
    "result = num1 + num2\n",
    "print(num1,\" + \",num2,\" =\",result);"
   ]
  },
  {
   "cell_type": "code",
   "execution_count": null,
   "id": "1bc39330",
   "metadata": {},
   "outputs": [],
   "source": []
  }
 ],
 "metadata": {
  "kernelspec": {
   "display_name": "Python 3",
   "language": "python",
   "name": "python3"
  },
  "language_info": {
   "codemirror_mode": {
    "name": "ipython",
    "version": 3
   },
   "file_extension": ".py",
   "mimetype": "text/x-python",
   "name": "python",
   "nbconvert_exporter": "python",
   "pygments_lexer": "ipython3",
   "version": "3.8.8"
  }
 },
 "nbformat": 4,
 "nbformat_minor": 5
}
